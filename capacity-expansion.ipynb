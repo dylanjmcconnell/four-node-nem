{
 "cells": [
  {
   "cell_type": "markdown",
   "id": "0d64c73e-5930-492a-b07e-4b96f1389bbf",
   "metadata": {},
   "source": [
    "# Four-node NEM Capacity Expansion model"
   ]
  },
  {
   "cell_type": "markdown",
   "id": "1e719332-d805-432a-9bab-678703feb9c5",
   "metadata": {},
   "source": [
    "A simple four node model of NEM "
   ]
  },
  {
   "cell_type": "code",
   "execution_count": null,
   "id": "b3c75bf3-6ac8-4443-8477-741214ec58c8",
   "metadata": {},
   "outputs": [],
   "source": [
    "import pypsa\n",
    "from pypsa.common import annuity"
   ]
  },
  {
   "cell_type": "code",
   "execution_count": null,
   "id": "0880aede-956a-431f-9b73-e99a82db5279",
   "metadata": {},
   "outputs": [],
   "source": [
    "#Create network\n",
    "\n",
    "network = pypsa.Network(name=\"four-node-nem\")\n",
    "\n",
    "#Add nodes\n",
    "network.add(\"Bus\", name=\"NSW\", x=151.20, y=-33.87)\n",
    "network.add(\"Bus\", name=\"QLD\", x=153.03, y=-27.47)\n",
    "network.add(\"Bus\", name=\"SA\", x=138.63, y=-34.93)\n",
    "network.add(\"Bus\", name=\"VIC\", x=145.01, y=-37.81)"
   ]
  },
  {
   "cell_type": "code",
   "execution_count": null,
   "id": "faede75f-87d3-4499-aeb6-4f1822b48e3a",
   "metadata": {},
   "outputs": [],
   "source": [
    "m = network.plot.map(boundaries = [138, 154, -45, -25], bus_size=.1)"
   ]
  },
  {
   "cell_type": "code",
   "execution_count": null,
   "id": "f90032ce-3dd6-4fc5-a95b-013d986b5be9",
   "metadata": {},
   "outputs": [],
   "source": [
    "CARRIERS = {\n",
    "    \"solar\": \"#F8E71C\", #\"gold\",\n",
    "    \"wind\": \"#417505\", #\"green\",\n",
    "    \"gas\": \"#F48E1B\", #\"orange\",\n",
    "    \"brown_coal\": \"#8B572A\", #brown\n",
    "    \"black_coal\": \"black\",\n",
    "    \"load\": \"slategrey\",\n",
    "    \"AC\": \"violet\"\n",
    "}\n",
    "\n",
    "network.add(\n",
    "    \"Carrier\",\n",
    "    CARRIERS.keys(),\n",
    "    color=CARRIERS.values(),\n",
    ")"
   ]
  },
  {
   "cell_type": "markdown",
   "id": "1abf5de2-5fa0-4bce-b594-d7ae906d18b1",
   "metadata": {},
   "source": [
    "## Adding snapshots and loads to the buses\n",
    " \n",
    "- First we need to set the \"snapshots\". Snapshots are the main way time is represented in the PyPSA.\n",
    "- We then add load to each of the buses.\n",
    "\n",
    "In this case, we by loading a data frame of load data, with a datetime index. We use the datetime index of this to create the snapshots. And then add the active power demand (`p_set`, in MW) at each time step from the dataframe to loads at each bus.\n"
   ]
  },
  {
   "cell_type": "code",
   "execution_count": null,
   "id": "f4e8efaa-956a-4bb3-a3b0-c2e9efdba5e7",
   "metadata": {},
   "outputs": [],
   "source": [
    "#load the data\n",
    "df_load = pd.read_csv(\"demand.csv\", index_col=0, parse_dates=True)\n",
    "display(df_load)"
   ]
  },
  {
   "cell_type": "code",
   "execution_count": null,
   "id": "01fa02d9-c85b-4082-818e-09a0200b8691",
   "metadata": {},
   "outputs": [],
   "source": [
    "# Set snapshots\n",
    "network.set_snapshots(df_load.index)\n",
    "\n",
    "# Add Load component\n",
    "network.add(\"Load\", \n",
    "            [\"VIC\", \"SA\", \"NSW\", \"QLD\"],\n",
    "            suffix=\"_load\", \n",
    "            bus=[\"VIC\", \"SA\", \"NSW\", \"QLD\"],\n",
    "            p_set=df_load[[\"VIC\", \"SA\", \"NSW\", \"QLD\"]], \n",
    "            carrier=\"load\")"
   ]
  },
  {
   "cell_type": "code",
   "execution_count": null,
   "id": "47e02c65-7469-4726-a91f-5439a0d05b8e",
   "metadata": {},
   "outputs": [],
   "source": [
    "display(network)\n"
   ]
  },
  {
   "cell_type": "code",
   "execution_count": null,
   "id": "5ac0f3ee-f49f-4ce2-8732-a0f4b26890c0",
   "metadata": {},
   "outputs": [],
   "source": [
    "display(network.loads)"
   ]
  },
  {
   "cell_type": "markdown",
   "id": "891750cd-7f2a-4c7b-a707-d21d9c4a6c64",
   "metadata": {},
   "source": [
    "## Adding generation to the buses. \n",
    "\n",
    "We then add generation to the buses. \n"
   ]
  },
  {
   "cell_type": "code",
   "execution_count": null,
   "id": "e989168b-fa92-448f-a37b-7469a7a69014",
   "metadata": {},
   "outputs": [],
   "source": [
    "## Add brown coal \n",
    "\n",
    "network.add(\n",
    "    \"Generator\",\n",
    "    [\"VIC\"],\n",
    "    suffix=\"_brown\",\n",
    "    bus=[\"VIC\"],\n",
    "    p_nom=3000,\n",
    "    marginal_cost=20,\n",
    "    carrier=\"brown_coal\",\n",
    "    ramp_limit_up=0.1,\n",
    "    ramp_limit_down=0.2,\n",
    "    overwrite=True\n",
    ")\n",
    "\n",
    "## Add black coal \n",
    "\n",
    "network.add(\n",
    "    \"Generator\",\n",
    "    [\"NSW\", \"QLD\"],\n",
    "    suffix=\"_black\",\n",
    "    bus=[\"NSW\", \"QLD\"],\n",
    "    p_nom=4000,\n",
    "    marginal_cost=60,\n",
    "    carrier=\"black_coal\",\n",
    "    ramp_limit_up=0.1,\n",
    "    ramp_limit_down=0.2,\n",
    "    overwrite=True\n",
    ")\n"
   ]
  },
  {
   "cell_type": "code",
   "execution_count": null,
   "id": "27f64206-f5e6-4662-b334-da700611456f",
   "metadata": {},
   "outputs": [],
   "source": [
    "display(network.generators.T)"
   ]
  },
  {
   "cell_type": "markdown",
   "id": "5ca6f07a-357e-49b7-b0c4-1124f5ad6757",
   "metadata": {},
   "source": [
    "## New Generation\n",
    "\n",
    "**For potential new generation, we set p_nom_extendable=True**\n",
    "\n",
    "(This is necessary for capacity expansion)\n",
    "\n",
    "For variable renewable resources, we pass the capacity factors as p_max_pu (per-unit (p.u.) time series that defines the maximum available output of a generator relative to its nominal capacity (p_nom) at each snapshot)\n",
    "\n"
   ]
  },
  {
   "cell_type": "code",
   "execution_count": null,
   "id": "53b8c6ae-8b92-45e9-86e2-19aeb79de6e9",
   "metadata": {},
   "outputs": [],
   "source": [
    "#Load solar data\n",
    "df_solar = pd.read_csv(\"solar.csv\", index_col=0, parse_dates=True)\n",
    "df_solar.head()"
   ]
  },
  {
   "cell_type": "code",
   "execution_count": null,
   "id": "6707357d-6362-4025-bb99-da68547890a2",
   "metadata": {},
   "outputs": [],
   "source": [
    "network.add(\n",
    "    \"Generator\",\n",
    "    [\"VIC\", \"SA\", \"NSW\", \"QLD\"],\n",
    "    suffix=\"_solar\",\n",
    "    bus=[\"VIC\", \"SA\", \"NSW\", \"QLD\"],\n",
    "    p_max_pu=df_solar[[\"VIC\", \"SA\", \"NSW\", \"QLD\"]],\n",
    "    p_nom_extendable=True,\n",
    "    capital_cost=annuity(0.05, 30) * 1_000_000,\n",
    "    carrier=\"solar\")\n"
   ]
  },
  {
   "cell_type": "code",
   "execution_count": null,
   "id": "39ef5c50-a9fe-476b-93a5-0d66f1bc8d6a",
   "metadata": {},
   "outputs": [],
   "source": [
    "#Load wind data\n",
    "df_wind = pd.read_csv(\"wind.csv\", index_col=0, parse_dates=True)\n",
    "df_wind.head()\n",
    "\n",
    "network.add(\n",
    "    \"Generator\",\n",
    "    [\"VIC\", \"SA\", \"NSW\", \"QLD\"],\n",
    "    suffix=\"_wind\",\n",
    "    bus=[\"VIC\", \"SA\", \"NSW\", \"QLD\"],\n",
    "    p_max_pu=df_wind[[\"VIC\", \"SA\", \"NSW\", \"QLD\"]],\n",
    "    p_nom_extendable=True,\n",
    "    capital_cost=annuity(0.05, 30) * 3_000_000,\n",
    "    carrier=\"wind\")"
   ]
  },
  {
   "cell_type": "code",
   "execution_count": null,
   "id": "231d43ac-8769-4a2e-b146-681e1f9a8aa9",
   "metadata": {},
   "outputs": [],
   "source": [
    "## Add gas generation\n",
    "network.add(\n",
    "    \"Generator\",\n",
    "    [\"VIC\", \"SA\", \"NSW\", \"QLD\"],\n",
    "    suffix=\"_gas\",\n",
    "    bus=[\"VIC\", \"SA\", \"NSW\", \"QLD\"],\n",
    "    p_nom_extendable=True,\n",
    "    marginal_cost=120,\n",
    "    capital_cost=annuity(0.05, 30) * 2_000_000,\n",
    "    carrier=\"gas\"\n",
    ")\n"
   ]
  },
  {
   "cell_type": "markdown",
   "id": "6f67a3fb-a0b9-4a2f-8704-03bf5066f677",
   "metadata": {},
   "source": [
    "## Adding links between the nodes\n",
    "\n",
    "We then add \"links\" between the nodes, to allow for transmission of power between the buses. "
   ]
  },
  {
   "cell_type": "code",
   "execution_count": null,
   "id": "f9a5d251-9abf-4340-bd25-51e49cab832d",
   "metadata": {},
   "outputs": [],
   "source": [
    "network.add(\n",
    "        \"Link\",\n",
    "        f\"VIC-SA\",\n",
    "        bus0=\"VIC\",\n",
    "        bus1=\"SA\",\n",
    "        p_nom=1000,\n",
    "        carrier=\"AC\",\n",
    "        p_min_pu=-1,  # bidirectional\n",
    "        overwrite=True\n",
    "    )\n",
    "\n",
    "network.add(\n",
    "        \"Link\",\n",
    "        f\"VIC-NSW\",\n",
    "        bus0=\"VIC\",\n",
    "        bus1=\"NSW\",\n",
    "        p_nom=2500,\n",
    "        carrier=\"AC\",\n",
    "        p_min_pu=-1,  # bidirectional\n",
    "        overwrite=True\n",
    "    )\n",
    "\n",
    "network.add(\n",
    "        \"Link\",\n",
    "        f\"NSW-QLD\",\n",
    "        bus0=\"NSW\",\n",
    "        bus1=\"QLD\",\n",
    "        p_nom=1500,\n",
    "        carrier=\"AC\",\n",
    "        p_min_pu=-1,  # bidirectional\n",
    "        overwrite=True\n",
    "    )\n"
   ]
  },
  {
   "cell_type": "markdown",
   "id": "807bcf27-d4f8-475f-9c98-33db56533d01",
   "metadata": {},
   "source": [
    "## Running the optimisation"
   ]
  },
  {
   "cell_type": "code",
   "execution_count": null,
   "id": "80cb0933-4845-4651-8288-807c33fc4737",
   "metadata": {},
   "outputs": [],
   "source": [
    "network.optimize()\n",
    "\n"
   ]
  },
  {
   "cell_type": "markdown",
   "id": "2202c3ae-c13e-41dc-bdc8-807678a5f4c2",
   "metadata": {},
   "source": [
    "## Exploring the results"
   ]
  },
  {
   "cell_type": "code",
   "execution_count": null,
   "id": "94a97da8-2abe-4d26-a0d1-31fdbd0946f8",
   "metadata": {},
   "outputs": [],
   "source": [
    "network.statistics()\n"
   ]
  },
  {
   "cell_type": "code",
   "execution_count": null,
   "id": "36c96f9b-da97-42a0-987d-e06bb7aa9385",
   "metadata": {},
   "outputs": [],
   "source": [
    "network.statistics.energy_balance().div(1e6).round(2).sort_values()"
   ]
  },
  {
   "cell_type": "code",
   "execution_count": null,
   "id": "60ccb372-9e73-42ff-b748-61b9948ce77e",
   "metadata": {},
   "outputs": [],
   "source": [
    "average_cost = (\n",
    "    (network.statistics.capex().sum() + network.statistics.opex().sum())\n",
    "    / network.loads_t.p_set.sum().sum()\n",
    ")\n",
    "display(f\"Average cost: {average_cost:.2f} AUD/MWh\")"
   ]
  },
  {
   "cell_type": "code",
   "execution_count": null,
   "id": "8ec90b14-b3c7-47d1-993b-163fdad84bf5",
   "metadata": {},
   "outputs": [],
   "source": [
    "network.buses_t.marginal_price.mean()\n"
   ]
  },
  {
   "cell_type": "code",
   "execution_count": null,
   "id": "5b2564d6-3da1-4438-add1-8c6e08afbc52",
   "metadata": {},
   "outputs": [],
   "source": [
    "import cartopy.crs as ccrs\n",
    "crs = ccrs.PlateCarree()\n",
    "fig, ax = plt.subplots(figsize=(10, 6), subplot_kw={\"projection\": crs})\n",
    "\n",
    "# Use the energy balance statistics to prepare the bus sizes and plot the network\n",
    "bus_size = network.statistics.energy_balance(groupby=[\"bus\", \"carrier\"]).droplevel(\n",
    "    \"component\")\n",
    "\n",
    "d = network.plot(ax=ax, bus_size=bus_size / 4e7, margin=0.75, bus_split_circle=True, boundaries = [135, 160, -45, -20])\n",
    "\n",
    "\n",
    "\n",
    "\n",
    "\n",
    "\n"
   ]
  },
  {
   "cell_type": "code",
   "execution_count": null,
   "id": "04a0a071-d758-439b-b43c-217496974251",
   "metadata": {},
   "outputs": [],
   "source": [
    "network.statistics.energy_balance.iplot()\n"
   ]
  }
 ],
 "metadata": {
  "kernelspec": {
   "display_name": "Python 3 (ipykernel)",
   "language": "python",
   "name": "python3"
  },
  "language_info": {
   "codemirror_mode": {
    "name": "ipython",
    "version": 3
   },
   "file_extension": ".py",
   "mimetype": "text/x-python",
   "name": "python",
   "nbconvert_exporter": "python",
   "pygments_lexer": "ipython3",
   "version": "3.14.0"
  }
 },
 "nbformat": 4,
 "nbformat_minor": 5
}
